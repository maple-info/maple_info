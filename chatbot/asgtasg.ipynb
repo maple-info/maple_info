{
 "cells": [
  {
   "cell_type": "code",
   "execution_count": 7,
   "metadata": {},
   "outputs": [
    {
     "name": "stdout",
     "output_type": "stream",
     "text": [
      "파일: maple_inven_data.faiss, 차원: 768\n",
      "파일: maple_qa.faiss, 차원: 768\n",
      "파일: maple_solution.faiss, 차원: 768\n"
     ]
    }
   ],
   "source": [
    "import os\n",
    "import faiss\n",
    "\n",
    "# FAISS 인덱스가 저장된 폴더 경로\n",
    "folder_path = \"C:/Users/ccg70/OneDrive/desktop/nexon_project/maple_db/data/rag/indexes/community_faiss/\"\n",
    "\n",
    "# 폴더 내 모든 .faiss 파일 확인\n",
    "for file_name in os.listdir(folder_path):\n",
    "    if file_name.endswith('.faiss'):\n",
    "        index_path = os.path.join(folder_path, file_name)\n",
    "        try:\n",
    "            # 인덱스 로드\n",
    "            index = faiss.read_index(index_path)\n",
    "            # 차원 출력\n",
    "            print(f\"파일: {file_name}, 차원: {index.d}\")\n",
    "        except Exception as e:\n",
    "            print(f\"Error loading {file_name}: {e}\")\n"
   ]
  },
  {
   "cell_type": "code",
   "execution_count": null,
   "metadata": {},
   "outputs": [],
   "source": []
  }
 ],
 "metadata": {
  "kernelspec": {
   "display_name": "base",
   "language": "python",
   "name": "python3"
  },
  "language_info": {
   "codemirror_mode": {
    "name": "ipython",
    "version": 3
   },
   "file_extension": ".py",
   "mimetype": "text/x-python",
   "name": "python",
   "nbconvert_exporter": "python",
   "pygments_lexer": "ipython3",
   "version": "3.10.9"
  }
 },
 "nbformat": 4,
 "nbformat_minor": 2
}
